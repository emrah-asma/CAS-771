{
 "cells": [
  {
   "cell_type": "code",
   "execution_count": 2,
   "id": "fd6273a6",
   "metadata": {},
   "outputs": [
    {
     "data": {
      "text/plain": [
       "'2.8.0'"
      ]
     },
     "execution_count": 2,
     "metadata": {},
     "output_type": "execute_result"
    }
   ],
   "source": [
    "import tensorflow as tf\n",
    "tf.version.VERSION"
   ]
  },
  {
   "cell_type": "code",
   "execution_count": 3,
   "id": "ca51b87b",
   "metadata": {},
   "outputs": [
    {
     "name": "stdout",
     "output_type": "stream",
     "text": [
      "tensorflow\n"
     ]
    }
   ],
   "source": [
    "# set Keras backend to Tensorflow\n",
    "import os\n",
    "os.environ[\"KERAS_BACKEND\"] = \"tensorflow\"\n",
    "kerasBKED = os.environ[\"KERAS_BACKEND\"] \n",
    "print(kerasBKED)"
   ]
  },
  {
   "cell_type": "code",
   "execution_count": 4,
   "id": "5643ab35",
   "metadata": {},
   "outputs": [],
   "source": [
    "# import\n",
    "import keras\n",
    "from keras.models import load_model\n",
    "from keras.datasets import cifar10\n",
    "from keras.models import Sequential\n",
    "from keras.layers import Dense, Dropout, Activation, Flatten\n",
    "from keras.layers import Conv2D, MaxPooling2D, InputLayer\n",
    "from keras.callbacks import EarlyStopping, ModelCheckpoint\n",
    "from sklearn.model_selection import train_test_split\n",
    "import os\n",
    "import pickle\n",
    "import numpy as np"
   ]
  },
  {
   "cell_type": "code",
   "execution_count": 5,
   "id": "3c8dd4c4",
   "metadata": {},
   "outputs": [],
   "source": [
    "# make saving directory\n",
    "saveDir = \"./cifar10/semiTest30/\"\n",
    "if not os.path.isdir(saveDir):\n",
    "    os.makedirs(saveDir)"
   ]
  },
  {
   "cell_type": "code",
   "execution_count": 6,
   "id": "b17b5d73",
   "metadata": {},
   "outputs": [
    {
     "name": "stdout",
     "output_type": "stream",
     "text": [
      "x train shape: (50000, 32, 32, 3)\n",
      "50000 training images\n",
      "10000 test images\n"
     ]
    }
   ],
   "source": [
    "# get Cifar10 dataset\n",
    "(x_train, y_train), (x_test, y_test) = cifar10.load_data()\n",
    "\n",
    "print('x train shape:', x_train.shape)\n",
    "print(x_train.shape[0], 'training images')\n",
    "print(x_test.shape[0], 'test images')"
   ]
  },
  {
   "cell_type": "code",
   "execution_count": 7,
   "id": "153b1569",
   "metadata": {},
   "outputs": [],
   "source": [
    "from keras.utils import np_utils\n",
    "# prerequisite\n",
    "num_classes = 10\n",
    "y_train = keras.utils.np_utils.to_categorical(y_train, num_classes)\n",
    "y_test = keras.utils.np_utils.to_categorical(y_test, num_classes)\n",
    "\n",
    "x_train = x_train.astype('float32')\n",
    "x_test = x_test.astype('float32')\n",
    "x_train /= 255\n",
    "x_test /= 255"
   ]
  },
  {
   "cell_type": "code",
   "execution_count": 8,
   "id": "6377086c",
   "metadata": {},
   "outputs": [],
   "source": [
    "initNum = 10000\n",
    "x_train1 = x_train[:initNum]\n",
    "y_train1 = y_train[:initNum]\n",
    "remainXTrain = x_train[initNum:]\n",
    "remainYTrain = y_train[initNum:]"
   ]
  },
  {
   "cell_type": "code",
   "execution_count": 9,
   "id": "6b235311",
   "metadata": {},
   "outputs": [
    {
     "name": "stdout",
     "output_type": "stream",
     "text": [
      "initial training X: (10000, 32, 32, 3)\n",
      "initial training Y: (10000, 10)\n",
      "remaining training X: (40000, 32, 32, 3)\n",
      "remaining training Y: (40000, 10)\n",
      "test X: (10000, 32, 32, 3)\n",
      "test Y: (10000, 10)\n"
     ]
    }
   ],
   "source": [
    "print(\"initial training X: {0}\\n\\\n",
    "initial training Y: {1}\\n\\\n",
    "remaining training X: {2}\\n\\\n",
    "remaining training Y: {3}\\n\\\n",
    "test X: {4}\\n\\\n",
    "test Y: {5}\".format(\n",
    "    x_train1.shape,y_train1.shape,remainXTrain.shape,remainYTrain.shape,x_test.shape,y_test.shape))"
   ]
  },
  {
   "cell_type": "code",
   "execution_count": 10,
   "id": "6670ab5d",
   "metadata": {},
   "outputs": [],
   "source": [
    "labels = [\"airplane\",\"automobile\",\"bird\",\"cat\",\"deer\",\"dog\",\"frog\",\"horse\",\"ship\",\"truck\"]"
   ]
  },
  {
   "cell_type": "code",
   "execution_count": 11,
   "id": "fdfbe7c7",
   "metadata": {},
   "outputs": [],
   "source": [
    "from tensorflow.keras.optimizers import Adam\n",
    "\n",
    "# optimization and compile\n",
    "def compileModel(model, lr=0.001, decay=1e-6):\n",
    "    opt = tf.keras.optimizers.Adam(learning_rate=lr, decay=decay)\n",
    "\n",
    "    model.compile(loss='categorical_crossentropy',\n",
    "                  optimizer=opt,\n",
    "                  metrics=['accuracy'])\n",
    "    \n",
    "    return model"
   ]
  },
  {
   "cell_type": "code",
   "execution_count": 12,
   "id": "88f30430",
   "metadata": {},
   "outputs": [],
   "source": [
    "# define layers\n",
    "def getModel(loadModel=False, modelFilePath=\"\", lr=0.001, decay=1e-6):\n",
    "    model = Sequential()\n",
    "    model.add(Conv2D(64, (3, 3), padding='same', input_shape=x_train.shape[1:]))\n",
    "    model.add(Activation('relu'))\n",
    "    model.add(Conv2D(64, (3, 3)))\n",
    "    model.add(Activation('relu'))\n",
    "    model.add(MaxPooling2D(pool_size=(2, 2)))\n",
    "    model.add(Dropout(0.25))\n",
    "\n",
    "    model.add(Conv2D(128, (3, 3), padding='same'))\n",
    "    model.add(Activation('relu'))\n",
    "    model.add(Conv2D(128, (3, 3)))\n",
    "    model.add(Activation('relu'))\n",
    "    model.add(MaxPooling2D(pool_size=(2, 2)))\n",
    "    model.add(Dropout(0.25))\n",
    "    \n",
    "    model.add(Flatten())\n",
    "    model.add(Dense(1024))\n",
    "    model.add(Activation('relu'))\n",
    "    model.add(Dropout(0.5))\n",
    "    model.add(Dense(num_classes))\n",
    "    model.add(Activation('softmax'))\n",
    "    \n",
    "    model = compileModel(model)\n",
    "    \n",
    "    # load model weights if specified\n",
    "    if loadModel == True:\n",
    "        model.load_weights(modelFilePath)\n",
    "    \n",
    "    return model"
   ]
  },
  {
   "cell_type": "code",
   "execution_count": 13,
   "id": "b7c1d035",
   "metadata": {},
   "outputs": [],
   "source": [
    "# get the newest model file\n",
    "def getNewestModel(dirname=saveDir):\n",
    "    import os\n",
    "    from glob import glob\n",
    "    target = os.path.join(dirname, '*')\n",
    "    files = [(f, os.path.getmtime(f)) for f in glob(target)]\n",
    "    if len(files) == 0:\n",
    "        return getModel()\n",
    "    else:\n",
    "        newestModel = sorted(files, key=lambda files: files[1])[-1]\n",
    "        return getModel(True, newestModel[0])"
   ]
  },
  {
   "cell_type": "code",
   "execution_count": 14,
   "id": "459d54dd",
   "metadata": {},
   "outputs": [],
   "source": [
    "# get the CNN model\n",
    "model = getModel()"
   ]
  },
  {
   "cell_type": "code",
   "execution_count": 15,
   "id": "a6588b15",
   "metadata": {},
   "outputs": [],
   "source": [
    "# train the model\n",
    "def trainModel(model, xTrain, yTrain, xTest, yTest, batch_size=50, epochs=100, patience=1):\n",
    "    es_cb = EarlyStopping(monitor='val_loss', patience=patience, verbose=1, mode='auto')\n",
    "    chkpt = os.path.join(saveDir, 'Cifar10_.{epoch:02d}-{loss:.2f}-{val_loss:.2f}.hdf5')\n",
    "    cp_cb = ModelCheckpoint(filepath = chkpt, monitor='val_loss', verbose=1, save_best_only=True, mode='auto')\n",
    "\n",
    "    # train\n",
    "    model.fit(xTrain, yTrain,\n",
    "              batch_size=batch_size,\n",
    "              epochs=epochs,\n",
    "              verbose=0,\n",
    "              validation_data=(xTest, yTest),\n",
    "              callbacks=[es_cb, cp_cb],\n",
    "              shuffle=True)\n",
    "    return model"
   ]
  },
  {
   "cell_type": "code",
   "execution_count": 16,
   "id": "45297d59",
   "metadata": {},
   "outputs": [
    {
     "name": "stdout",
     "output_type": "stream",
     "text": [
      "\n",
      "Epoch 1: val_loss improved from inf to 1.55834, saving model to ./cifar10/semiTest30\\Cifar10_.01-1.93-1.56.hdf5\n",
      "\n",
      "Epoch 2: val_loss improved from 1.55834 to 1.35019, saving model to ./cifar10/semiTest30\\Cifar10_.02-1.51-1.35.hdf5\n",
      "\n",
      "Epoch 3: val_loss improved from 1.35019 to 1.27080, saving model to ./cifar10/semiTest30\\Cifar10_.03-1.35-1.27.hdf5\n",
      "\n",
      "Epoch 4: val_loss improved from 1.27080 to 1.25845, saving model to ./cifar10/semiTest30\\Cifar10_.04-1.22-1.26.hdf5\n",
      "\n",
      "Epoch 5: val_loss improved from 1.25845 to 1.10887, saving model to ./cifar10/semiTest30\\Cifar10_.05-1.11-1.11.hdf5\n",
      "\n",
      "Epoch 6: val_loss did not improve from 1.10887\n",
      "\n",
      "Epoch 7: val_loss improved from 1.10887 to 1.06409, saving model to ./cifar10/semiTest30\\Cifar10_.07-0.92-1.06.hdf5\n",
      "\n",
      "Epoch 8: val_loss improved from 1.06409 to 1.01481, saving model to ./cifar10/semiTest30\\Cifar10_.08-0.83-1.01.hdf5\n",
      "\n",
      "Epoch 9: val_loss improved from 1.01481 to 0.99449, saving model to ./cifar10/semiTest30\\Cifar10_.09-0.74-0.99.hdf5\n",
      "\n",
      "Epoch 10: val_loss did not improve from 0.99449\n",
      "\n",
      "Epoch 11: val_loss did not improve from 0.99449\n",
      "Epoch 11: early stopping\n"
     ]
    }
   ],
   "source": [
    "# run training on the initial dataset\n",
    "\n",
    "model = trainModel(model, x_train1, y_train1, x_test, y_test, patience=2)"
   ]
  },
  {
   "cell_type": "code",
   "execution_count": 17,
   "id": "a2b66366",
   "metadata": {},
   "outputs": [],
   "source": [
    "# use the pre-trained model, with 65% accuracy on test data\n",
    "# model = getNewestModel()\n",
    "model.load_weights(\"./cifar10/semiTest30/Cifar10_.09-0.74-0.99.hdf5\")"
   ]
  },
  {
   "cell_type": "code",
   "execution_count": 18,
   "id": "a72a3b53",
   "metadata": {},
   "outputs": [],
   "source": [
    "# define evaluation method\n",
    "def evaluate(model, xTest, yTest, display=False):\n",
    "    # only shows loss and accuracy\n",
    "    if display == False:\n",
    "        ev = model.evaluate(xTest, yTest, verbose=0)\n",
    "        return ev\n",
    "    # shows confusion matrix, classification report and accuracy score\n",
    "    else:\n",
    "        import pandas as pd\n",
    "        import seaborn as sn\n",
    "        import matplotlib.pyplot as plt\n",
    "        from sklearn.metrics import confusion_matrix\n",
    "        from sklearn.metrics import classification_report, accuracy_score\n",
    "\n",
    "        def toNum(y):\n",
    "            yNum = []\n",
    "            for x in y:\n",
    "                yNum.append(x.argmax())\n",
    "            return np.array(yNum)\n",
    "\n",
    "        # visualize confusion matrix on heat map\n",
    "        def print_cmx(y_true, y_pred):\n",
    "            labels = sorted(list(set(y_true)))\n",
    "            cmx_data = confusion_matrix(y_true, y_pred, labels=labels)\n",
    "\n",
    "            df_cmx = pd.DataFrame(cmx_data, index=labels, columns=labels)\n",
    "\n",
    "            plt.figure(figsize = (10,7))\n",
    "            sn.heatmap(df_cmx, annot=True)\n",
    "            plt.show()\n",
    "\n",
    "        # reshape testing target to fit to scikit-learn metric form\n",
    "        y_testPred = model.predict(xTest)\n",
    "        y_testP = toNum(y_testPred)\n",
    "        y_true = toNum(yTest)\n",
    "\n",
    "        # get confusion matrix, classification report and accuracy score\n",
    "        print_cmx(y_true, y_testP)\n",
    "        print(classification_report(y_true, y_testP))\n",
    "        print(\"Accuracy: {0}\".format(accuracy_score(y_true, y_testP)))"
   ]
  },
  {
   "cell_type": "code",
   "execution_count": 19,
   "id": "667afb06",
   "metadata": {},
   "outputs": [
    {
     "data": {
      "image/png": "[encoded data removed]",
      "text/plain": [
       "<Figure size 720x504 with 2 Axes>"
      ]
     },
     "metadata": {
      "needs_background": "light"
     },
     "output_type": "display_data"
    },
    {
     "name": "stdout",
     "output_type": "stream",
     "text": [
      "              precision    recall  f1-score   support\n",
      "\n",
      "           0       0.76      0.59      0.66      1000\n",
      "           1       0.79      0.83      0.81      1000\n",
      "           2       0.60      0.40      0.48      1000\n",
      "           3       0.42      0.56      0.48      1000\n",
      "           4       0.62      0.59      0.60      1000\n",
      "           5       0.55      0.53      0.54      1000\n",
      "           6       0.78      0.70      0.74      1000\n",
      "           7       0.67      0.71      0.69      1000\n",
      "           8       0.71      0.82      0.76      1000\n",
      "           9       0.71      0.79      0.75      1000\n",
      "\n",
      "    accuracy                           0.65     10000\n",
      "   macro avg       0.66      0.65      0.65     10000\n",
      "weighted avg       0.66      0.65      0.65     10000\n",
      "\n",
      "Accuracy: 0.6538\n"
     ]
    }
   ],
   "source": [
    "# evaluate the initial test dataset\n",
    "evaluate(model, x_test, y_test, display=True)"
   ]
  },
  {
   "cell_type": "code",
   "execution_count": 20,
   "id": "cc4d27e1",
   "metadata": {},
   "outputs": [
    {
     "name": "stdout",
     "output_type": "stream",
     "text": [
      "[0.994488000869751, 0.6538000106811523]\n"
     ]
    }
   ],
   "source": [
    "# record the loss and accuracy\n",
    "evalHistory = []\n",
    "evalHistory.append(evaluate(model, x_test, y_test, display=False))\n",
    "print(evalHistory[-1])\n"
   ]
  },
  {
   "cell_type": "code",
   "execution_count": 21,
   "id": "9551b991",
   "metadata": {},
   "outputs": [],
   "source": [
    "# get a list of high probability inference\n",
    "def getHighProb(proba, bound):\n",
    "    ls = []\n",
    "    for i in range(len(proba)):\n",
    "        for p in range(len(proba[i])):\n",
    "            if proba[i,p] > bound:\n",
    "                ls.append([i,p])\n",
    "    return ls"
   ]
  },
  {
   "cell_type": "code",
   "execution_count": 22,
   "id": "ca3f2bc3",
   "metadata": {},
   "outputs": [],
   "source": [
    "# concatenate initial training data with high probability inference, removing them from remaining data\n",
    "\n",
    "from keras import utils as np_utils\n",
    "\n",
    "\n",
    "def concatHighProbData(proba, remainX, remainY, xTrain, yTrain, bound=0.99):\n",
    "    hp = getHighProb(proba, bound)\n",
    "    print(\"number of data with probability higher than {0}: {1}\".format(bound,len(hp)))\n",
    "    \n",
    "    nhp = np.array(hp)\n",
    "    xAdd = remainX[nhp[:,0]]\n",
    "    yAdd = np.array([nhp[:,1]]).T\n",
    "    yAdd = keras.utils.np_utils.to_categorical(yAdd, num_classes)\n",
    "    yActual = remainY[nhp[:,0]]\n",
    "    print(\"x shape to be added: {0}\\ny shape to be added: {1}\".format(xAdd.shape, yAdd.shape))\n",
    "    \n",
    "    NewXTrain = np.vstack((xTrain, xAdd))\n",
    "    NewYTrain = np.vstack((yTrain, yAdd))\n",
    "    print(\"new training data:\\n\\tx: {0}\\n\\ty: {1}\".format(NewXTrain.shape, NewYTrain.shape))\n",
    "    \n",
    "    remainX2 = np.delete(remainX, nhp[:,0], axis=0)\n",
    "    remainY2 = np.delete(remainY, nhp[:,0], axis=0)\n",
    "    print(\"remaining data:\\n\\tx: {0}\\n\\ty: {1}\".format(remainX2.shape, remainY2.shape))\n",
    "    \n",
    "    yEval = [[yActual[i],yAdd[i]] for i in range(len(yAdd))]\n",
    "    \n",
    "    return remainX2, remainY2, NewXTrain, NewYTrain, yEval"
   ]
  },
  {
   "cell_type": "code",
   "execution_count": 23,
   "id": "02896f36",
   "metadata": {},
   "outputs": [],
   "source": [
    "def getError(yEval):\n",
    "    errLabel = [0]*10\n",
    "    for i in range(len(yEval)):\n",
    "        if False in (yEval[i][0] == yEval[i][1]):\n",
    "            errLabel[np.argmax(yEval[i][0]-yEval[i][1])] += 1\n",
    "    return errLabel"
   ]
  },
  {
   "cell_type": "code",
   "execution_count": 24,
   "id": "71c9d17a",
   "metadata": {},
   "outputs": [
    {
     "name": "stdout",
     "output_type": "stream",
     "text": [
      "number of data with probability higher than 0.9999: 295\n",
      "x shape to be added: (295, 32, 32, 3)\n",
      "y shape to be added: (295, 10)\n",
      "new training data:\n",
      "\tx: (10295, 32, 32, 3)\n",
      "\ty: (10295, 10)\n",
      "remaining data:\n",
      "\tx: (39705, 32, 32, 3)\n",
      "\ty: (39705, 10)\n"
     ]
    }
   ],
   "source": [
    "# get new training data\n",
    "# proba = model.predict_proba(remainXTrain, verbose=0)\n",
    "proba=model.predict(remainXTrain,verbose=0)\n",
    "remainXTrain, remainYTrain, x_train2, y_train2, yEval= concatHighProbData(proba, \n",
    "                                                                          remainXTrain, \n",
    "                                                                          remainYTrain, \n",
    "                                                                          x_train1, \n",
    "                                                                          y_train1, \n",
    "                                                                          0.9999)\n",
    "errPred = getError(yEval)"
   ]
  },
  {
   "cell_type": "code",
   "execution_count": 25,
   "id": "5c79795c",
   "metadata": {},
   "outputs": [
    {
     "name": "stdout",
     "output_type": "stream",
     "text": [
      "\n",
      "Epoch 1: val_loss improved from inf to 1.02021, saving model to ./cifar10/semiTest30\\Cifar10_.01-0.63-1.02.hdf5\n",
      "\n",
      "Epoch 2: val_loss improved from 1.02021 to 1.00151, saving model to ./cifar10/semiTest30\\Cifar10_.02-0.56-1.00.hdf5\n",
      "\n",
      "Epoch 3: val_loss did not improve from 1.00151\n",
      "Epoch 3: early stopping\n"
     ]
    }
   ],
   "source": [
    "# retrain the model\n",
    "model = trainModel(model, x_train2, y_train2, x_test, y_test)"
   ]
  },
  {
   "cell_type": "code",
   "execution_count": 26,
   "id": "185e5b5c",
   "metadata": {},
   "outputs": [],
   "source": [
    "# load the newest checkpoint model to get the best accuracy one\n",
    "model = getNewestModel()"
   ]
  },
  {
   "cell_type": "code",
   "execution_count": 27,
   "id": "2950fbc6",
   "metadata": {
    "scrolled": true
   },
   "outputs": [
    {
     "data": {
      "image/png": "[encoded data removed]",
      "text/plain": [
       "<Figure size 720x504 with 2 Axes>"
      ]
     },
     "metadata": {
      "needs_background": "light"
     },
     "output_type": "display_data"
    },
    {
     "name": "stdout",
     "output_type": "stream",
     "text": [
      "              precision    recall  f1-score   support\n",
      "\n",
      "           0       0.72      0.66      0.69      1000\n",
      "           1       0.82      0.83      0.82      1000\n",
      "           2       0.50      0.58      0.54      1000\n",
      "           3       0.48      0.45      0.46      1000\n",
      "           4       0.65      0.58      0.62      1000\n",
      "           5       0.55      0.54      0.55      1000\n",
      "           6       0.71      0.80      0.75      1000\n",
      "           7       0.80      0.68      0.73      1000\n",
      "           8       0.70      0.82      0.76      1000\n",
      "           9       0.78      0.76      0.77      1000\n",
      "\n",
      "    accuracy                           0.67     10000\n",
      "   macro avg       0.67      0.67      0.67     10000\n",
      "weighted avg       0.67      0.67      0.67     10000\n",
      "\n",
      "Accuracy: 0.6692\n"
     ]
    }
   ],
   "source": [
    "# evaluate with the initial test dataset\n",
    "evaluate(model, x_test, y_test, display=True)"
   ]
  },
  {
   "cell_type": "code",
   "execution_count": 28,
   "id": "575b6464",
   "metadata": {},
   "outputs": [
    {
     "name": "stdout",
     "output_type": "stream",
     "text": [
      "[1.0015082359313965, 0.6692000031471252]\n"
     ]
    }
   ],
   "source": [
    "# record the loss and accuracy\n",
    "evalHistory.append(evaluate(model, x_test, y_test, display=False))\n",
    "print(evalHistory[-1])"
   ]
  },
  {
   "cell_type": "code",
   "execution_count": 29,
   "id": "8e2df740",
   "metadata": {},
   "outputs": [
    {
     "name": "stdout",
     "output_type": "stream",
     "text": [
      "number of data with probability higher than 0.9999: 678\n",
      "x shape to be added: (678, 32, 32, 3)\n",
      "y shape to be added: (678, 10)\n",
      "new training data:\n",
      "\tx: (10973, 32, 32, 3)\n",
      "\ty: (10973, 10)\n",
      "remaining data:\n",
      "\tx: (39027, 32, 32, 3)\n",
      "\ty: (39027, 10)\n",
      "\n",
      "Epoch 1: val_loss improved from inf to 1.10985, saving model to ./cifar10/semiTest30\\Cifar10_.01-0.49-1.11.hdf5\n",
      "\n",
      "Epoch 2: val_loss improved from 1.10985 to 1.06871, saving model to ./cifar10/semiTest30\\Cifar10_.02-0.42-1.07.hdf5\n",
      "\n",
      "Epoch 3: val_loss did not improve from 1.06871\n",
      "Epoch 3: early stopping\n",
      "\n",
      "After Iter: 0\n",
      "\tLoss and Acc: [1.0687118768692017, 0.6654000282287598]\n",
      "\n",
      "number of data with probability higher than 0.9999: 1094\n",
      "x shape to be added: (1094, 32, 32, 3)\n",
      "y shape to be added: (1094, 10)\n",
      "new training data:\n",
      "\tx: (12067, 32, 32, 3)\n",
      "\ty: (12067, 10)\n",
      "remaining data:\n",
      "\tx: (37933, 32, 32, 3)\n",
      "\ty: (37933, 10)\n",
      "\n",
      "Epoch 1: val_loss improved from inf to 1.13812, saving model to ./cifar10/semiTest30\\Cifar10_.01-0.37-1.14.hdf5\n",
      "\n",
      "Epoch 2: val_loss did not improve from 1.13812\n",
      "Epoch 2: early stopping\n",
      "\n",
      "After Iter: 1\n",
      "\tLoss and Acc: [1.1381244659423828, 0.6632999777793884]\n",
      "\n",
      "number of data with probability higher than 0.9999: 1106\n",
      "x shape to be added: (1106, 32, 32, 3)\n",
      "y shape to be added: (1106, 10)\n",
      "new training data:\n",
      "\tx: (13173, 32, 32, 3)\n",
      "\ty: (13173, 10)\n",
      "remaining data:\n",
      "\tx: (36827, 32, 32, 3)\n",
      "\ty: (36827, 10)\n",
      "\n",
      "Epoch 1: val_loss improved from inf to 1.12180, saving model to ./cifar10/semiTest30\\Cifar10_.01-0.34-1.12.hdf5\n"
     ]
    },
    {
     "ename": "RuntimeError",
     "evalue": "Can't decrement id ref count (unable to extend file properly)",
     "output_type": "error",
     "traceback": [
      "\u001b[1;31m---------------------------------------------------------------------------\u001b[0m",
      "\u001b[1;31mRuntimeError\u001b[0m                              Traceback (most recent call last)",
      "Input \u001b[1;32mIn [29]\u001b[0m, in \u001b[0;36m<cell line: 1>\u001b[1;34m()\u001b[0m\n\u001b[0;32m     10\u001b[0m errPred2 \u001b[38;5;241m=\u001b[39m getError(yEval)\n\u001b[0;32m     11\u001b[0m errPred \u001b[38;5;241m=\u001b[39m [errPred2[i]\u001b[38;5;241m+\u001b[39merrPred[i] \u001b[38;5;28;01mfor\u001b[39;00m i \u001b[38;5;129;01min\u001b[39;00m \u001b[38;5;28mrange\u001b[39m(\u001b[38;5;28mlen\u001b[39m(errPred))]\n\u001b[1;32m---> 12\u001b[0m model \u001b[38;5;241m=\u001b[39m \u001b[43mtrainModel\u001b[49m\u001b[43m(\u001b[49m\u001b[43mmodel\u001b[49m\u001b[43m,\u001b[49m\u001b[43m \u001b[49m\u001b[43mx_train2\u001b[49m\u001b[43m,\u001b[49m\u001b[43m \u001b[49m\u001b[43my_train2\u001b[49m\u001b[43m,\u001b[49m\u001b[43m \u001b[49m\u001b[43mx_test\u001b[49m\u001b[43m,\u001b[49m\u001b[43m \u001b[49m\u001b[43my_test\u001b[49m\u001b[43m)\u001b[49m\n\u001b[0;32m     13\u001b[0m model \u001b[38;5;241m=\u001b[39m getNewestModel()\n\u001b[0;32m     14\u001b[0m evalHistory\u001b[38;5;241m.\u001b[39mappend(evaluate(model, x_test, y_test, display\u001b[38;5;241m=\u001b[39m\u001b[38;5;28;01mFalse\u001b[39;00m))\n",
      "Input \u001b[1;32mIn [15]\u001b[0m, in \u001b[0;36mtrainModel\u001b[1;34m(model, xTrain, yTrain, xTest, yTest, batch_size, epochs, patience)\u001b[0m\n\u001b[0;32m      5\u001b[0m cp_cb \u001b[38;5;241m=\u001b[39m ModelCheckpoint(filepath \u001b[38;5;241m=\u001b[39m chkpt, monitor\u001b[38;5;241m=\u001b[39m\u001b[38;5;124m'\u001b[39m\u001b[38;5;124mval_loss\u001b[39m\u001b[38;5;124m'\u001b[39m, verbose\u001b[38;5;241m=\u001b[39m\u001b[38;5;241m1\u001b[39m, save_best_only\u001b[38;5;241m=\u001b[39m\u001b[38;5;28;01mTrue\u001b[39;00m, mode\u001b[38;5;241m=\u001b[39m\u001b[38;5;124m'\u001b[39m\u001b[38;5;124mauto\u001b[39m\u001b[38;5;124m'\u001b[39m)\n\u001b[0;32m      7\u001b[0m \u001b[38;5;66;03m# train\u001b[39;00m\n\u001b[1;32m----> 8\u001b[0m \u001b[43mmodel\u001b[49m\u001b[38;5;241;43m.\u001b[39;49m\u001b[43mfit\u001b[49m\u001b[43m(\u001b[49m\u001b[43mxTrain\u001b[49m\u001b[43m,\u001b[49m\u001b[43m \u001b[49m\u001b[43myTrain\u001b[49m\u001b[43m,\u001b[49m\n\u001b[0;32m      9\u001b[0m \u001b[43m          \u001b[49m\u001b[43mbatch_size\u001b[49m\u001b[38;5;241;43m=\u001b[39;49m\u001b[43mbatch_size\u001b[49m\u001b[43m,\u001b[49m\n\u001b[0;32m     10\u001b[0m \u001b[43m          \u001b[49m\u001b[43mepochs\u001b[49m\u001b[38;5;241;43m=\u001b[39;49m\u001b[43mepochs\u001b[49m\u001b[43m,\u001b[49m\n\u001b[0;32m     11\u001b[0m \u001b[43m          \u001b[49m\u001b[43mverbose\u001b[49m\u001b[38;5;241;43m=\u001b[39;49m\u001b[38;5;241;43m0\u001b[39;49m\u001b[43m,\u001b[49m\n\u001b[0;32m     12\u001b[0m \u001b[43m          \u001b[49m\u001b[43mvalidation_data\u001b[49m\u001b[38;5;241;43m=\u001b[39;49m\u001b[43m(\u001b[49m\u001b[43mxTest\u001b[49m\u001b[43m,\u001b[49m\u001b[43m \u001b[49m\u001b[43myTest\u001b[49m\u001b[43m)\u001b[49m\u001b[43m,\u001b[49m\n\u001b[0;32m     13\u001b[0m \u001b[43m          \u001b[49m\u001b[43mcallbacks\u001b[49m\u001b[38;5;241;43m=\u001b[39;49m\u001b[43m[\u001b[49m\u001b[43mes_cb\u001b[49m\u001b[43m,\u001b[49m\u001b[43m \u001b[49m\u001b[43mcp_cb\u001b[49m\u001b[43m]\u001b[49m\u001b[43m,\u001b[49m\n\u001b[0;32m     14\u001b[0m \u001b[43m          \u001b[49m\u001b[43mshuffle\u001b[49m\u001b[38;5;241;43m=\u001b[39;49m\u001b[38;5;28;43;01mTrue\u001b[39;49;00m\u001b[43m)\u001b[49m\n\u001b[0;32m     15\u001b[0m \u001b[38;5;28;01mreturn\u001b[39;00m model\n",
      "File \u001b[1;32mC:\\Anaconda3\\envs\\test\\lib\\site-packages\\keras\\utils\\traceback_utils.py:67\u001b[0m, in \u001b[0;36mfilter_traceback.<locals>.error_handler\u001b[1;34m(*args, **kwargs)\u001b[0m\n\u001b[0;32m     65\u001b[0m \u001b[38;5;28;01mexcept\u001b[39;00m \u001b[38;5;167;01mException\u001b[39;00m \u001b[38;5;28;01mas\u001b[39;00m e:  \u001b[38;5;66;03m# pylint: disable=broad-except\u001b[39;00m\n\u001b[0;32m     66\u001b[0m   filtered_tb \u001b[38;5;241m=\u001b[39m _process_traceback_frames(e\u001b[38;5;241m.\u001b[39m__traceback__)\n\u001b[1;32m---> 67\u001b[0m   \u001b[38;5;28;01mraise\u001b[39;00m e\u001b[38;5;241m.\u001b[39mwith_traceback(filtered_tb) \u001b[38;5;28;01mfrom\u001b[39;00m \u001b[38;5;28mNone\u001b[39m\n\u001b[0;32m     68\u001b[0m \u001b[38;5;28;01mfinally\u001b[39;00m:\n\u001b[0;32m     69\u001b[0m   \u001b[38;5;28;01mdel\u001b[39;00m filtered_tb\n",
      "File \u001b[1;32mC:\\Anaconda3\\envs\\test\\lib\\site-packages\\h5py\\_hl\\files.py:526\u001b[0m, in \u001b[0;36mFile.close\u001b[1;34m(self)\u001b[0m\n\u001b[0;32m    520\u001b[0m \u001b[38;5;28;01mif\u001b[39;00m \u001b[38;5;28mself\u001b[39m\u001b[38;5;241m.\u001b[39mid\u001b[38;5;241m.\u001b[39mvalid:\n\u001b[0;32m    521\u001b[0m     \u001b[38;5;66;03m# We have to explicitly murder all open objects related to the file\u001b[39;00m\n\u001b[0;32m    522\u001b[0m \n\u001b[0;32m    523\u001b[0m     \u001b[38;5;66;03m# Close file-resident objects first, then the files.\u001b[39;00m\n\u001b[0;32m    524\u001b[0m     \u001b[38;5;66;03m# Otherwise we get errors in MPI mode.\u001b[39;00m\n\u001b[0;32m    525\u001b[0m     \u001b[38;5;28mself\u001b[39m\u001b[38;5;241m.\u001b[39mid\u001b[38;5;241m.\u001b[39m_close_open_objects(h5f\u001b[38;5;241m.\u001b[39mOBJ_LOCAL \u001b[38;5;241m|\u001b[39m \u001b[38;5;241m~\u001b[39mh5f\u001b[38;5;241m.\u001b[39mOBJ_FILE)\n\u001b[1;32m--> 526\u001b[0m     \u001b[38;5;28;43mself\u001b[39;49m\u001b[38;5;241;43m.\u001b[39;49m\u001b[43mid\u001b[49m\u001b[38;5;241;43m.\u001b[39;49m\u001b[43m_close_open_objects\u001b[49m\u001b[43m(\u001b[49m\u001b[43mh5f\u001b[49m\u001b[38;5;241;43m.\u001b[39;49m\u001b[43mOBJ_LOCAL\u001b[49m\u001b[43m \u001b[49m\u001b[38;5;241;43m|\u001b[39;49m\u001b[43m \u001b[49m\u001b[43mh5f\u001b[49m\u001b[38;5;241;43m.\u001b[39;49m\u001b[43mOBJ_FILE\u001b[49m\u001b[43m)\u001b[49m\n\u001b[0;32m    528\u001b[0m     \u001b[38;5;28mself\u001b[39m\u001b[38;5;241m.\u001b[39mid\u001b[38;5;241m.\u001b[39mclose()\n\u001b[0;32m    529\u001b[0m     _objects\u001b[38;5;241m.\u001b[39mnonlocal_close()\n",
      "File \u001b[1;32mh5py\\_objects.pyx:54\u001b[0m, in \u001b[0;36mh5py._objects.with_phil.wrapper\u001b[1;34m()\u001b[0m\n",
      "File \u001b[1;32mh5py\\_objects.pyx:55\u001b[0m, in \u001b[0;36mh5py._objects.with_phil.wrapper\u001b[1;34m()\u001b[0m\n",
      "File \u001b[1;32mh5py\\h5f.pyx:358\u001b[0m, in \u001b[0;36mh5py.h5f.FileID._close_open_objects\u001b[1;34m()\u001b[0m\n",
      "\u001b[1;31mRuntimeError\u001b[0m: Can't decrement id ref count (unable to extend file properly)"
     ]
    }
   ],
   "source": [
    "for i in range(30):\n",
    "    #proba = model.predict_proba(remainXTrain, verbose=0)\n",
    "    proba=model.predict(remainXTrain,verbose=0)\n",
    "    remainXTrain, remainYTrain, x_train2, y_train2, yEval = concatHighProbData(proba, \n",
    "                                                                               remainXTrain, \n",
    "                                                                               remainYTrain, \n",
    "                                                                               x_train2, \n",
    "                                                                               y_train2, \n",
    "                                                                               0.9999)\n",
    "    errPred2 = getError(yEval)\n",
    "    errPred = [errPred2[i]+errPred[i] for i in range(len(errPred))]\n",
    "    model = trainModel(model, x_train2, y_train2, x_test, y_test)\n",
    "    model = getNewestModel()\n",
    "    evalHistory.append(evaluate(model, x_test, y_test, display=False))\n",
    "    print(\"\\nAfter Iter: {0}\\n\\tLoss and Acc: {1}\\n\".format(i,evalHistory[-1]))"
   ]
  }
 ],
 "metadata": {
  "kernelspec": {
   "display_name": "Python 3 (ipykernel)",
   "language": "python",
   "name": "python3"
  },
  "language_info": {
   "codemirror_mode": {
    "name": "ipython",
    "version": 3
   },
   "file_extension": ".py",
   "mimetype": "text/x-python",
   "name": "python",
   "nbconvert_exporter": "python",
   "pygments_lexer": "ipython3",
   "version": "3.10.0"
  }
 },
 "nbformat": 4,
 "nbformat_minor": 5
}
